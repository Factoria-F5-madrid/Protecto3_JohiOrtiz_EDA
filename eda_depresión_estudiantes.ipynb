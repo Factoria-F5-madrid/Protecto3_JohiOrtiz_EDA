{
 "cells": [
  {
   "cell_type": "code",
   "execution_count": null,
   "id": "a7f27625",
   "metadata": {},
   "outputs": [
    {
     "ename": "",
     "evalue": "",
     "output_type": "error",
     "traceback": [
      "\u001b[1;31mRunning cells with 'Python 3.12.3' requires the ipykernel package.\n",
      "\u001b[1;31m<a href='command:jupyter.createPythonEnvAndSelectController'>Create a Python Environment</a> with the required packages."
     ]
    }
   ],
   "source": [
    "import kagglehub\n",
    "\n",
    "# Download latest version\n",
    "path = kagglehub.dataset_download(\"adilshamim8/student-depression-dataset\")\n",
    "\n",
    "print(\"Path to dataset files:\", path)"
   ]
  },
  {
   "cell_type": "code",
   "execution_count": null,
   "id": "2d0f2855",
   "metadata": {},
   "outputs": [],
   "source": [
    "# Instalar librerías si no están instaladas\n",
    "%pip install scipy scikit-learn plotly\n",
    "\n",
    "# Importar librerías estándar\n",
    "import re\n",
    "import math\n",
    "import os\n",
    "import warnings\n",
    "\n",
    "# Importar librerías para manipulación de datos y análisis\n",
    "import numpy as np\n",
    "import pandas as pd\n",
    "import scipy.stats as stats\n",
    "\n",
    "# Importar librerías para visualización\n",
    "import matplotlib.pyplot as plt\n",
    "import seaborn as sns\n",
    "import plotly.express as px\n",
    "\n",
    "# Importar librerías de Kaggle para manejo de datos\n",
    "import kagglehub\n",
    "\n",
    "# Importar librerías de Scikit-learn para machine learning\n",
    "from sklearn.model_selection import train_test_split, cross_val_score\n",
    "from sklearn.preprocessing import LabelEncoder, StandardScaler\n",
    "from sklearn.linear_model import LogisticRegression\n",
    "from sklearn.ensemble import RandomForestClassifier\n",
    "from sklearn.metrics import confusion_matrix, classification_report, roc_curve, auc, accuracy_score\n",
    "\n",
    "# Configurar el entorno de visualización y advertencias\n",
    "warnings.filterwarnings('ignore')\n",
    "sns.set(style=\"whitegrid\")\n",
    "%matplotlib inline"
   ]
  },
  {
   "cell_type": "code",
   "execution_count": null,
   "id": "df320c9c",
   "metadata": {},
   "outputs": [],
   "source": [
    "# Descarga el dataset a una carpeta local y nos da la ruta\n",
    "path = kagglehub.dataset_download(\"adilshamim8/student-depression-dataset\")\n",
    "\n",
    "# Construye la ruta completa al archivo CSV\n",
    "full_csv_path = os.path.join(path, os.listdir(path)[0])\n",
    "\n",
    "# Carga el archivo CSV usando la ruta local\n",
    "data = pd.read_csv(full_csv_path)\n",
    "\n",
    "# Muestra las primeras filas para confirmar la carga\n",
    "print(\"Datos cargados en un entorno local:\")\n",
    "data.head()"
   ]
  },
  {
   "cell_type": "markdown",
   "id": "4c5e0fa1",
   "metadata": {},
   "source": [
    "Limpieza de datos"
   ]
  },
  {
   "cell_type": "code",
   "execution_count": null,
   "id": "3bdcd0fc",
   "metadata": {},
   "outputs": [],
   "source": [
    "data.info()"
   ]
  },
  {
   "cell_type": "code",
   "execution_count": null,
   "id": "f70ad7bb",
   "metadata": {},
   "outputs": [],
   "source": [
    "#Convertir columnas a Category\n",
    "data['Gender'] = data['Gender'].astype('category')\n",
    "data['City'] = data['City'].astype('category')\n",
    "data['Sleep Duration'] = data['Sleep Duration'].astype('category')\n",
    "data['Dietary Habits'] = data['Dietary Habits'].astype('category')\n",
    "data['Degree'] = data['Degree'].astype('category')\n",
    "data['Have you ever had suicidal thoughts ?'] = data['Have you ever had suicidal thoughts ?'].astype('category')\n",
    "data['Family History of Mental Illness'] = data['Family History of Mental Illness'].astype('category')\n",
    "data['Depression'] = data['Depression'].astype('category')"
   ]
  },
  {
   "cell_type": "code",
   "execution_count": null,
   "id": "8a7e2b06",
   "metadata": {},
   "outputs": [],
   "source": [
    "data.info()"
   ]
  },
  {
   "cell_type": "code",
   "execution_count": null,
   "id": "a339b88c",
   "metadata": {},
   "outputs": [],
   "source": [
    "data.describe()"
   ]
  },
  {
   "cell_type": "code",
   "execution_count": null,
   "id": "5de79e88",
   "metadata": {},
   "outputs": [],
   "source": [
    "data.shape"
   ]
  },
  {
   "cell_type": "markdown",
   "id": "4b21026e",
   "metadata": {},
   "source": [
    "Análisis Univariable"
   ]
  },
  {
   "cell_type": "code",
   "execution_count": null,
   "id": "b0abb3fa",
   "metadata": {},
   "outputs": [],
   "source": [
    "# Estadísticas de resumen para variables numéricas\n",
    "print(data[['Age', 'Academic Pressure', 'Work Pressure', 'CGPA', 'Work/Study Hours']].describe())\n",
    "\n",
    "# Distribución de frecuencia de variables categóricas\n",
    "for column in ['Gender', 'Depression', 'Sleep Duration', 'Dietary Habits', 'Family History of Mental Illness']:\n",
    "    print(f\"\\nDistribución de frecuencia de: {column}\")\n",
    "    print(data[column].value_counts())\n",
    "    print(\"-\" * 30)"
   ]
  },
  {
   "cell_type": "code",
   "execution_count": null,
   "id": "e219656d",
   "metadata": {},
   "outputs": [],
   "source": [
    "#Distribución de la variable objetivo\n",
    "plt.figure(figsize=(6,4))\n",
    "sns.countplot(x='Depression', data=data, palette='Set2')\n",
    "plt.title('Distribución de la variable objetivo (Depresión)')\n",
    "plt.xlabel('Depresión')\n",
    "plt.ylabel('Cantidad de estudiantes')\n",
    "plt.show()  "
   ]
  },
  {
   "cell_type": "markdown",
   "id": "f241a073",
   "metadata": {},
   "source": [
    "Análisis Multivariable"
   ]
  },
  {
   "cell_type": "code",
   "execution_count": null,
   "id": "21a41212",
   "metadata": {},
   "outputs": [],
   "source": [
    "# Análisis de correlación para variables numéricas\n",
    "plt.figure(figsize=(10, 8))\n",
    "numeric_data = data.select_dtypes(include=['float64', 'int64'])\n",
    "correlation_matrix = numeric_data.corr()\n",
    "sns.heatmap(correlation_matrix, annot=True, cmap='coolwarm', fmt=\".2f\")\n",
    "plt.title('Matriz de Correlación')\n",
    "plt.show()"
   ]
  },
  {
   "cell_type": "code",
   "execution_count": null,
   "id": "ec542340",
   "metadata": {},
   "outputs": [],
   "source": [
    "# Función para encontrar outliers\n",
    "\n",
    "# Gráfico de la presión académica por depresión\n",
    "plt.figure(figsize=(10, 6))\n",
    "sns.boxplot(x='Depression', y='Academic Pressure', data=data)\n",
    "plt.title('Distribución de Presión Académica por Estatus de Depresión')\n",
    "plt.xlabel('Depresión')\n",
    "plt.ylabel('Presión Académica')\n",
    "plt.xticks(ticks=[0, 1], labels=['No', 'Sí'])\n",
    "plt.grid(True, linestyle='--', alpha=0.6)\n",
    "plt.show()\n",
    "\n",
    "# Puedes repetir el proceso para otras variables numéricas\n",
    "plt.figure(figsize=(10, 6))\n",
    "sns.boxplot(x='Depression', y='Work Pressure', data=data)\n",
    "plt.title('Distribución de Presión Laboral por Estatus de Depresión')\n",
    "plt.xlabel('Depresión')\n",
    "plt.ylabel('Presión Laboral')\n",
    "plt.xticks(ticks=[0, 1], labels=['No', 'Sí'])\n",
    "plt.grid(True, linestyle='--', alpha=0.6)\n",
    "plt.show()"
   ]
  },
  {
   "cell_type": "code",
   "execution_count": null,
   "id": "55060386",
   "metadata": {},
   "outputs": [],
   "source": [
    "# Convert 'Depression' to integer (if not already)\n",
    "data['Depression'] = data['Depression'].astype(int)\n",
    "\n",
    "# Convert columns that should be categorical\n",
    "cat_cols = ['Gender', 'City', 'Profession', 'Degree',\n",
    "            'Have you ever had suicidal thoughts ?', \n",
    "            'Family History of Mental Illness']\n",
    "for col in cat_cols:\n",
    "    data[col] = data[col].astype('category')\n",
    "\n",
    "# Check unique values in some columns to decide cleaning strategy\n",
    "print(\"Unique values in 'Sleep Duration':\", data['Sleep Duration'].unique())\n",
    "print(\"Unique values in 'Financial Stress':\", data['Financial Stress'].unique())"
   ]
  },
  {
   "cell_type": "code",
   "execution_count": null,
   "id": "379bf177",
   "metadata": {},
   "outputs": [],
   "source": [
    "# Define a function to extract numeric hours from Sleep Duration column\n",
    "def extract_hours(s):\n",
    "    # Find a number (including decimals)\n",
    "    match = re.search(r\"(\\d+(\\.\\d+)?)\", str(s))\n",
    "    return float(match.group(1)) if match else np.nan\n",
    "\n",
    "data['Sleep Duration'] = data['Sleep Duration'].apply(extract_hours)\n",
    "\n",
    "# Convert Financial Stress to categorical if it represents levels (e.g., Low, Medium, High)\n",
    "data['Financial Stress'] = data['Financial Stress'].astype('category')\n",
    "\n",
    "# Verify changes\n",
    "print(data[['Sleep Duration', 'Financial Stress']].head())\n",
    "\n",
    "# Create a histogram for Sleep Duration\n",
    "plt.figure(figsize=(10, 6))\n",
    "sns.histplot(data['Sleep Duration'].dropna(), bins=10, kde=True, color='skyblue')\n",
    "plt.title('Distribución de la Duración del Sueño')\n",
    "plt.xlabel('Duración del Sueño (horas)')\n",
    "plt.ylabel('Frecuencia')\n",
    "plt.grid(True, linestyle='--', alpha=0.6)\n",
    "plt.show()"
   ]
  },
  {
   "cell_type": "code",
   "execution_count": null,
   "id": "519a366e",
   "metadata": {},
   "outputs": [],
   "source": [
    "for col in ['Sleep Duration']:\n",
    "    if data[col].isnull().sum() > 0:\n",
    "        data[col].fillna(data[col].median(), inplace=True)\n",
    "# Crear una copia de la columna para la visualización 'antes'\n",
    "sleep_duration_before = data['Sleep Duration'].copy()\n",
    "\n",
    "# Imputar valores faltantes con la mediana\n",
    "for col in ['Sleep Duration']:\n",
    "    if data[col].isnull().sum() > 0:\n",
    "        data[col].fillna(data[col].median(), inplace=True)\n",
    "\n",
    "# Crear el gráfico para comparar las distribuciones\n",
    "plt.figure(figsize=(12, 6))\n",
    "\n",
    "# Subplot para la distribución 'antes' de la imputación\n",
    "plt.subplot(1, 2, 1)\n",
    "sns.histplot(sleep_duration_before.dropna(), bins=10, kde=True, color='skyblue')\n",
    "plt.title('Distribución de Duración del Sueño (Antes)')\n",
    "plt.xlabel('Duración del Sueño (horas)')\n",
    "plt.ylabel('Frecuencia')\n",
    "plt.grid(True, linestyle='--', alpha=0.6)\n",
    "\n",
    "# Subplot para la distribución 'después' de la imputación\n",
    "plt.subplot(1, 2, 2)\n",
    "sns.histplot(data['Sleep Duration'], bins=10, kde=True, color='lightgreen')\n",
    "plt.title('Distribución de Duración del Sueño (Después)')\n",
    "plt.xlabel('Duración del Sueño (horas)')\n",
    "plt.ylabel('Frecuencia')\n",
    "plt.grid(True, linestyle='--', alpha=0.6)\n",
    "\n",
    "plt.tight_layout()\n",
    "plt.show()"
   ]
  },
  {
   "cell_type": "code",
   "execution_count": null,
   "id": "3fdbae88",
   "metadata": {},
   "outputs": [],
   "source": [
    "# Crea una tabla de contingencia normalizada para obtener porcentajes\n",
    "gender_depression_prop = data.groupby('Gender')['Depression'].value_counts(normalize=True).unstack().mul(100)\n",
    "\n",
    "# Genera un gráfico de barras apiladas a partir de la tabla\n",
    "gender_depression_prop.plot(kind='bar', stacked=True, figsize=(10, 7), color=['lightgreen', 'salmon'])\n",
    "\n",
    "# Añade etiquetas y título al gráfico\n",
    "plt.title('Distribución Porcentual de Depresión por Género')\n",
    "plt.xlabel('Género')\n",
    "plt.ylabel('Porcentaje')\n",
    "plt.xticks(rotation=0)\n",
    "plt.legend(title='Depresión', labels=['No', 'Sí'])\n",
    "plt.tight_layout()\n",
    "plt.show()"
   ]
  },
  {
   "cell_type": "code",
   "execution_count": null,
   "id": "2f1827dd",
   "metadata": {},
   "outputs": [],
   "source": [
    "plt.figure(figsize=(10,8))\n",
    "num_cols = ['Age', 'Academic Pressure', 'Work Pressure', 'CGPA', \n",
    "            'Study Satisfaction', 'Job Satisfaction', 'Sleep Duration', 'Work/Study Hours']\n",
    "corr_matrix = data[num_cols].corr()\n",
    "sns.heatmap(corr_matrix, annot=True, cmap='coolwarm', fmt=\".2f\")\n",
    "plt.title(\"Correlation Heatmap\")\n",
    "plt.show()"
   ]
  },
  {
   "cell_type": "code",
   "execution_count": null,
   "id": "70a33d3a",
   "metadata": {},
   "outputs": [],
   "source": [
    "fig = px.scatter(data, x=\"CGPA\", y=\"Study Satisfaction\", color=\"Depression\",\n",
    "                 hover_data=['Age', 'Gender', 'Academic Pressure'],\n",
    "                 title=\"CGPA vs Study Satisfaction by Depression\")\n",
    "fig.show()"
   ]
  },
  {
   "cell_type": "code",
   "execution_count": null,
   "id": "93b42852",
   "metadata": {},
   "outputs": [],
   "source": [
    "# Random Forest Classifier\n",
    "rf_model = RandomForestClassifier(n_estimators=100, random_state=42)\n",
    "rf_model.fit(X_train, y_train)\n",
    "\n",
    "# Predictions and evaluation\n",
    "y_pred_rf = rf_model.predict(X_test)\n",
    "print(\"Random Forest Classification Report:\")\n",
    "print(classification_report(y_test, y_pred_rf))\n",
    "\n",
    "# Confusion matrix for RF\n",
    "cm_rf = confusion_matrix(y_test, y_pred_rf)\n",
    "sns.heatmap(cm_rf, annot=True, fmt=\"d\", cmap='Greens')\n",
    "plt.title(\"Random Forest Confusion Matrix\")\n",
    "plt.xlabel(\"Predicted\")\n",
    "plt.ylabel(\"Actual\")\n",
    "plt.show()\n",
    "\n",
    "# ROC Curve for RF\n",
    "y_prob_rf = rf_model.predict_proba(X_test)[:,1]\n",
    "fpr_rf, tpr_rf, thresholds_rf = roc_curve(y_test, y_prob_rf)\n",
    "roc_auc_rf = auc(fpr_rf, tpr_rf)\n",
    "plt.figure(figsize=(8,6))\n",
    "plt.plot(fpr_rf, tpr_rf, label=f'Random Forest ROC curve (AUC = {roc_auc_rf:.2f})', color='green')\n",
    "plt.plot([0,1],[0,1],'k--')\n",
    "plt.xlabel('False Positive Rate')\n",
    "plt.ylabel('True Positive Rate')\n",
    "plt.title('ROC Curve - Random Forest')\n",
    "plt.legend(loc=\"lower right\")\n",
    "plt.show()"
   ]
  },
  {
   "cell_type": "code",
   "execution_count": null,
   "id": "d63f095c",
   "metadata": {},
   "outputs": [],
   "source": [
    "# Cross-validation for Logistic Regression\n",
    "cv_scores_log = cross_val_score(log_model, X, y, cv=5, scoring='accuracy')\n",
    "print(\"5-Fold CV Accuracy for Logistic Regression:\", cv_scores_log)\n",
    "print(\"Mean CV Accuracy:\", cv_scores_log.mean())\n",
    "\n",
    "# Cross-validation for Random Forest\n",
    "cv_scores_rf = cross_val_score(rf_model, X, y, cv=5, scoring='accuracy')\n",
    "print(\"5-Fold CV Accuracy for Random Forest:\", cv_scores_rf)\n",
    "print(\"Mean CV Accuracy:\", cv_scores_rf.mean())"
   ]
  },
  {
   "cell_type": "markdown",
   "id": "f1174205",
   "metadata": {},
   "source": [
    "Outliers"
   ]
  },
  {
   "cell_type": "code",
   "execution_count": null,
   "id": "a863bd75",
   "metadata": {},
   "outputs": [],
   "source": [
    "\n",
    "# Función para encontrar outliers\n",
    "def find_outliers_iqr(df, column):\n",
    "    Q1 = df[column].quantile(0.25)\n",
    "    Q3 = df[column].quantile(0.75)\n",
    "    IQR = Q3 - Q1\n",
    "    lower_bound = Q1 - 1.5 * IQR\n",
    "    upper_bound = Q3 + 1.5 * IQR\n",
    "    \n",
    "    outliers = df[(df[column] < lower_bound) | (df[column] > upper_bound)]\n",
    "    return outliers\n",
    "\n",
    "# Encontrar outliers en la columna de 'Academic Pressure'\n",
    "academic_pressure_outliers = find_outliers_iqr(data, 'Academic Pressure')\n",
    "print(f\"Número de outliers en 'Academic Pressure': {len(academic_pressure_outliers)}\")\n",
    "print(\"Ejemplos de outliers:\")\n",
    "print(academic_pressure_outliers[['Academic Pressure', 'Depression']].head())\n",
    "\n",
    "# Encontrar outliers en la columna de 'CGPA'\n",
    "cgpa_outliers = find_outliers_iqr(data, 'CGPA')\n",
    "print(f\"\\nNúmero de outliers en 'CGPA': {len(cgpa_outliers)}\")\n",
    "print(\"Ejemplos de outliers:\")\n",
    "print(cgpa_outliers[['CGPA', 'Depression']].head())"
   ]
  },
  {
   "cell_type": "code",
   "execution_count": null,
   "id": "fe9391ab",
   "metadata": {},
   "outputs": [],
   "source": [
    "# Visualizar outliers en 'Academic Pressure'\n",
    "plt.figure(figsize=(8, 6))\n",
    "sns.boxplot(y=data['Academic Pressure'])\n",
    "plt.title('Boxplot para Presión Académica con Outliers')\n",
    "plt.ylabel('Presión Académica')\n",
    "plt.show()\n",
    "\n",
    "# Visualizar outliers en 'CGPA'\n",
    "plt.figure(figsize=(8, 6))\n",
    "sns.boxplot(y=data['CGPA'])\n",
    "plt.title('Boxplot para CGPA con Outliers')\n",
    "plt.ylabel('CGPA')\n",
    "plt.show()"
   ]
  }
 ],
 "metadata": {
  "kernelspec": {
   "display_name": "Python 3",
   "language": "python",
   "name": "python3"
  },
  "language_info": {
   "codemirror_mode": {
    "name": "ipython",
    "version": 3
   },
   "file_extension": ".py",
   "mimetype": "text/x-python",
   "name": "python",
   "nbconvert_exporter": "python",
   "pygments_lexer": "ipython3",
   "version": "3.12.3"
  }
 },
 "nbformat": 4,
 "nbformat_minor": 5
}
